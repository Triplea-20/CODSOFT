{
 "cells": [
  {
   "cell_type": "code",
   "execution_count": 10,
   "id": "c9204aab",
   "metadata": {},
   "outputs": [],
   "source": [
    "# initialize the To-do List #\n",
    "todo_list = []"
   ]
  },
  {
   "cell_type": "code",
   "execution_count": 11,
   "id": "e2d9742b",
   "metadata": {},
   "outputs": [],
   "source": [
    "# Function to Add tasks #\n",
    "def add_task (task):\n",
    "    def update_task(task_id,new_task):\n",
    "        task_id = int(input(\"Enter task ID to update: \"))\n",
    "    update_task(task_id, new_task)\n",
    "    task_id = len(todo_list) + 1"
   ]
  },
  {
   "cell_type": "code",
   "execution_count": 12,
   "id": "16cb199d",
   "metadata": {},
   "outputs": [],
   "source": [
    "def add_task(task):\n",
    "    task_id = len(todo_list) + 1\n",
    "    todo_list.append({\"id\":\n",
    "task_id, \"task\": task,\"status\": \"incomplete\"})\n",
    "    print(f\"Task added:{task}\")"
   ]
  },
  {
   "cell_type": "code",
   "execution_count": 13,
   "id": "dbf0e0f1",
   "metadata": {},
   "outputs": [],
   "source": [
    "# Function to View Tasks#\n",
    "todo_list = [\n",
    "    {\"id\":1, \"task\": \"Complete project\", \"status\":\"incomplete\"},\n",
    "    {\"id\":2, \"task\": \"Read book\", \"status\": \"complete\"}\n",
    "]\n",
    "def view_tasks():\n",
    "    if not todo_list:\n",
    "        print(\"No tasks found.\")\n",
    "    else:\n",
    "        print(\"\\nTo-Do List:\")\n",
    "        for item in todo_list:\n",
    "             status = \"~\" if item[\"status\"] == \"complete\" else \"x\"\n",
    "        print(f\"{item['id']}:{item['task']} - {status}\")\n",
    "        print()\n",
    "        view_task ()"
   ]
  },
  {
   "cell_type": "code",
   "execution_count": 14,
   "id": "89c2dee6",
   "metadata": {},
   "outputs": [],
   "source": [
    "#Function to Update Task#\n",
    "\n",
    "def update_task(task_id, new_task):\n",
    "    for item in todo_list:\n",
    "        if item['id'] == task_id:\n",
    "            item['task'] = new_task\n",
    "            print(\"task successfully updated.\")\n",
    "            return\n",
    "            print(\"Task not found.\")"
   ]
  },
  {
   "cell_type": "code",
   "execution_count": 15,
   "id": "4c768db3",
   "metadata": {},
   "outputs": [],
   "source": [
    "#Funtion to Mark task complete#\n",
    "def mark_complete(task_id):\n",
    "    for item in todo_list:\n",
    "        if item['id'] == task_id:\n",
    "            item['status'] = 'complete'\n",
    "            print(\"Task marked as complete.\")\n",
    "            return\n",
    "        print(\"Task not found.\")"
   ]
  },
  {
   "cell_type": "code",
   "execution_count": 16,
   "id": "c9d4f86f",
   "metadata": {},
   "outputs": [],
   "source": [
    "#Function to Delete#\n",
    "def delete_task(task_id):\n",
    "    global todo_list\n",
    "    todo_list = [item for \n",
    "item in todo_list if\n",
    "item['id'] != task_id]\n",
    "    print(\"Task deleted.\")"
   ]
  },
  {
   "cell_type": "code",
   "execution_count": 18,
   "id": "eb58919d",
   "metadata": {},
   "outputs": [],
   "source": [
    "#Creating Main Program Loop#\n",
    "def main():\n",
    "    while True:\n",
    "        print(\"\\nOptions: add, view, update, complete, delete, exit\")\n",
    "        choice = input(\"Enter an option: \").strip().lower()\n",
    "        if choice == 'add':\n",
    "            task = input(\"Enter task description: \")\n",
    "            add_task(task)\n",
    "        elif choice == 'view':\n",
    "            view_tasks()\n",
    "        elif choice == 'update':\n",
    "            task_id = int(input(\"Enter task ID to update: \"))\n",
    "            new_task = input(\"Enter the updated task: \")\n",
    "            update_task(task_id, new_task)\n",
    "        elif choice == 'complete':\n",
    "            task_id = int(input(\"Enter task ID to mark as complete: \"))\n",
    "            mark_complete(task_id)\n",
    "        elif choice == 'delete':\n",
    "            task_id = int(input(\"Enter task ID to delete: \"))\n",
    "            delete_task(task_id)\n",
    "        elif choice == 'exit':\n",
    "            print(\"Goodbye!\")\n",
    "            break\n",
    "        else:\n",
    "            print(\"Invalid option, please try again.\")"
   ]
  },
  {
   "cell_type": "code",
   "execution_count": null,
   "id": "44e39f06",
   "metadata": {},
   "outputs": [],
   "source": []
  },
  {
   "cell_type": "code",
   "execution_count": null,
   "id": "f05a31c2",
   "metadata": {},
   "outputs": [],
   "source": []
  },
  {
   "cell_type": "code",
   "execution_count": null,
   "id": "ca2a2d9a",
   "metadata": {},
   "outputs": [],
   "source": []
  }
 ],
 "metadata": {
  "kernelspec": {
   "display_name": "Python 3 (ipykernel)",
   "language": "python",
   "name": "python3"
  },
  "language_info": {
   "codemirror_mode": {
    "name": "ipython",
    "version": 3
   },
   "file_extension": ".py",
   "mimetype": "text/x-python",
   "name": "python",
   "nbconvert_exporter": "python",
   "pygments_lexer": "ipython3",
   "version": "3.11.4"
  }
 },
 "nbformat": 4,
 "nbformat_minor": 5
}
