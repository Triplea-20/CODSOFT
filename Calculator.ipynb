{
 "cells": [
  {
   "cell_type": "code",
   "execution_count": 2,
   "id": "b09303e0",
   "metadata": {},
   "outputs": [],
   "source": [
    "#Define Arithmetic Functions\n",
    "def add(x, y):\n",
    "    return x + y"
   ]
  },
  {
   "cell_type": "code",
   "execution_count": 3,
   "id": "c6ba48b8",
   "metadata": {},
   "outputs": [],
   "source": [
    "def subtract(x, y):\n",
    "    return x - y"
   ]
  },
  {
   "cell_type": "code",
   "execution_count": 4,
   "id": "1104379a",
   "metadata": {},
   "outputs": [],
   "source": [
    "def multiply(x, y):\n",
    "    return x * y"
   ]
  },
  {
   "cell_type": "code",
   "execution_count": 5,
   "id": "3ba59ea7",
   "metadata": {},
   "outputs": [],
   "source": [
    "def divide(x, y):\n",
    "    if y == 0:\n",
    "        return \"Error: Division by zero is undefined.\"\n",
    "    return x / y"
   ]
  },
  {
   "cell_type": "code",
   "execution_count": 6,
   "id": "84694968",
   "metadata": {},
   "outputs": [],
   "source": [
    "def calculator():\n",
    "    print(\"Simple Calculator\")\n",
    "    print(\"Choose an operation:\")\n",
    "    print(\"1. Addition (+)\")\n",
    "    print(\"2. Subtraction (-)\")\n",
    "    print(\"3. Multiplication (*)\")\n",
    "    print(\"4. Division (/)\")"
   ]
  },
  {
   "cell_type": "code",
   "execution_count": 7,
   "id": "ecb6592b",
   "metadata": {},
   "outputs": [],
   "source": [
    "#Storing the user input\n",
    "def get_operation_choice():\n",
    "    \"\"\"Prompt user to choose an operation with error handling.\"\"\"\n",
    "    while True:\n",
    "        try:\n",
    "            choice = int(input(\"Enter your choice (1 for Addition, 2 for Subtraction, 3 for Multiplication, 4 for Division): \"))\n",
    "            if choice in [1, 2, 3, 4]:\n",
    "                return choice\n",
    "            else:\n",
    "                print(\"Invalid choice. Please enter a number between 1 and 4.\")\n",
    "        except ValueError:\n",
    "            print(\"Invalid input. Please enter a valid number.\")"
   ]
  },
  {
   "cell_type": "code",
   "execution_count": 8,
   "id": "b8bfc4cb",
   "metadata": {},
   "outputs": [],
   "source": [
    " def get_number(prompt):\n",
    "    \"\"\"Prompt user to enter a number with error handling.\"\"\"\n",
    "    while True:\n",
    "        try:\n",
    "            return float(input(prompt))\n",
    "        except ValueError:\n",
    "            print(\"Invalid input. Please enter a valid number.\")"
   ]
  },
  {
   "cell_type": "code",
   "execution_count": 10,
   "id": "008e2844",
   "metadata": {},
   "outputs": [
    {
     "name": "stdout",
     "output_type": "stream",
     "text": [
      "Enter your choice (1 for Addition, 2 for Subtraction, 3 for Multiplication, 4 for Division): 1\n"
     ]
    }
   ],
   "source": [
    " # Get operation choice\n",
    "choice = get_operation_choice()\n"
   ]
  },
  {
   "cell_type": "code",
   "execution_count": 12,
   "id": "8bd00803",
   "metadata": {},
   "outputs": [
    {
     "name": "stdout",
     "output_type": "stream",
     "text": [
      "Enter the first number: 20\n",
      "Enter the second number: 5\n"
     ]
    }
   ],
   "source": [
    " # Get the two numbers\n",
    "num1 = get_number(\"Enter the first number: \")\n",
    "num2 = get_number(\"Enter the second number: \")"
   ]
  },
  {
   "cell_type": "code",
   "execution_count": 18,
   "id": "7954e63d",
   "metadata": {},
   "outputs": [
    {
     "name": "stdout",
     "output_type": "stream",
     "text": [
      "The result of addition is: 25.0\n"
     ]
    }
   ],
   "source": [
    " # Perform the chosen operation\n",
    "if choice == 1:\n",
    "        print(f\"The result of addition is: {add(num1, num2)}\")\n",
    "elif choice == 2:\n",
    "        print(f\"The result of subtraction is: {subtract(num1, num2)}\")\n",
    "elif choice == 3:\n",
    "        print(f\"The result of multiplication is: {multiply(num1, num2)}\")\n",
    "elif choice == 4:\n",
    "        print(f\"The result of division is: {divide(num1, num2)}\")"
   ]
  },
  {
   "cell_type": "code",
   "execution_count": null,
   "id": "b0da587c",
   "metadata": {},
   "outputs": [],
   "source": []
  }
 ],
 "metadata": {
  "kernelspec": {
   "display_name": "Python 3 (ipykernel)",
   "language": "python",
   "name": "python3"
  },
  "language_info": {
   "codemirror_mode": {
    "name": "ipython",
    "version": 3
   },
   "file_extension": ".py",
   "mimetype": "text/x-python",
   "name": "python",
   "nbconvert_exporter": "python",
   "pygments_lexer": "ipython3",
   "version": "3.11.4"
  }
 },
 "nbformat": 4,
 "nbformat_minor": 5
}
