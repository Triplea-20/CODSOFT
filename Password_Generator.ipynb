{
 "cells": [
  {
   "cell_type": "code",
   "execution_count": 1,
   "id": "096d4caf",
   "metadata": {},
   "outputs": [],
   "source": [
    "import random\n",
    "import string"
   ]
  },
  {
   "cell_type": "code",
   "execution_count": 2,
   "id": "af77b25f",
   "metadata": {},
   "outputs": [],
   "source": [
    "# Build the character set based on user preferences\n",
    "def generate_password(length, use_uppercase, use_lowercase, use_digits, use_special):\n",
    "    character_set = \"\"\n",
    "    if use_uppercase:\n",
    "        character_set += string.ascii_uppercase\n",
    "    if use_lowercase:\n",
    "        character_set += string.ascii_lowercase\n",
    "    if use_digits:\n",
    "        character_set += string.digits\n",
    "    if use_special:\n",
    "        character_set += string.punctuation\n",
    "    # Make sure there is at least one type of character selected\n",
    "    if not character_set:\n",
    "        return \"Error: You must select at least one character type.\"\n",
    "    # Generate the password using the selected character set\n",
    "    password = ''.join(random.choice(character_set) for _ in range(length))\n",
    "    return password\n",
    "\n"
   ]
  },
  {
   "cell_type": "code",
   "execution_count": 4,
   "id": "9a184b3a",
   "metadata": {},
   "outputs": [
    {
     "data": {
      "text/plain": [
       "\"`P!?5='k\""
      ]
     },
     "execution_count": 4,
     "metadata": {},
     "output_type": "execute_result"
    }
   ],
   "source": [
    "generate_password(8, True, True, True, True)"
   ]
  },
  {
   "cell_type": "code",
   "execution_count": 7,
   "id": "063e9f29",
   "metadata": {},
   "outputs": [
    {
     "data": {
      "text/plain": [
       "'F4#*Ll6/'"
      ]
     },
     "execution_count": 7,
     "metadata": {},
     "output_type": "execute_result"
    }
   ],
   "source": [
    "generate_password(8, True, True, True, True)"
   ]
  },
  {
   "cell_type": "code",
   "execution_count": 8,
   "id": "6d48dced",
   "metadata": {},
   "outputs": [
    {
     "data": {
      "text/plain": [
       "'S*Y>Z'"
      ]
     },
     "execution_count": 8,
     "metadata": {},
     "output_type": "execute_result"
    }
   ],
   "source": [
    "generate_password(5, True, True, True, True)"
   ]
  },
  {
   "cell_type": "code",
   "execution_count": 9,
   "id": "af26927e",
   "metadata": {},
   "outputs": [
    {
     "data": {
      "text/plain": [
       "'@\\\\.3$-91TP'"
      ]
     },
     "execution_count": 9,
     "metadata": {},
     "output_type": "execute_result"
    }
   ],
   "source": [
    "generate_password(10, True, True, True, True)"
   ]
  },
  {
   "cell_type": "code",
   "execution_count": 10,
   "id": "6967ce7f",
   "metadata": {},
   "outputs": [
    {
     "data": {
      "text/plain": [
       "'Ef4J-[n'"
      ]
     },
     "execution_count": 10,
     "metadata": {},
     "output_type": "execute_result"
    }
   ],
   "source": [
    "generate_password(7, True, True, True, True)"
   ]
  },
  {
   "cell_type": "code",
   "execution_count": 11,
   "id": "a091582d",
   "metadata": {},
   "outputs": [
    {
     "data": {
      "text/plain": [
       "'=TlHoYi}2c@P'"
      ]
     },
     "execution_count": 11,
     "metadata": {},
     "output_type": "execute_result"
    }
   ],
   "source": [
    "generate_password(12, True, True, True, True)"
   ]
  },
  {
   "cell_type": "code",
   "execution_count": null,
   "id": "3fd24463",
   "metadata": {},
   "outputs": [],
   "source": []
  }
 ],
 "metadata": {
  "kernelspec": {
   "display_name": "Python 3 (ipykernel)",
   "language": "python",
   "name": "python3"
  },
  "language_info": {
   "codemirror_mode": {
    "name": "ipython",
    "version": 3
   },
   "file_extension": ".py",
   "mimetype": "text/x-python",
   "name": "python",
   "nbconvert_exporter": "python",
   "pygments_lexer": "ipython3",
   "version": "3.11.4"
  }
 },
 "nbformat": 4,
 "nbformat_minor": 5
}
